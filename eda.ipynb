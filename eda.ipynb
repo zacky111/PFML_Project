{
 "cells": [
  {
   "cell_type": "code",
   "execution_count": null,
   "metadata": {},
   "outputs": [
    {
     "name": "stdout",
     "output_type": "stream",
     "text": [
      "                        Track                    Album Name          Artist  \\\n",
      "0         MILLION DOLLAR BABY  Million Dollar Baby - Single   Tommy Richman   \n",
      "1                 Not Like Us                   Not Like Us  Kendrick Lamar   \n",
      "2  i like the way you kiss me    I like the way you kiss me         Artemas   \n",
      "3                     Flowers              Flowers - Single     Miley Cyrus   \n",
      "4                     Houdini                       Houdini          Eminem   \n",
      "\n",
      "  Release Date          ISRC All Time Rank  Track Score Spotify Streams  \\\n",
      "0    4/26/2024  QM24S2402528             1        725.4     390,470,936   \n",
      "1     5/4/2024  USUG12400910             2        545.9     323,703,884   \n",
      "2    3/19/2024  QZJ842400387             3        538.4     601,309,283   \n",
      "3    1/12/2023  USSM12209777             4        444.9   2,031,280,633   \n",
      "4    5/31/2024  USUG12403398             5        423.3     107,034,922   \n",
      "\n",
      "  Spotify Playlist Count Spotify Playlist Reach  ...  SiriusXM Spins  \\\n",
      "0                 30,716            196,631,588  ...             684   \n",
      "1                 28,113            174,597,137  ...               3   \n",
      "2                 54,331            211,607,669  ...             536   \n",
      "3                269,802            136,569,078  ...           2,182   \n",
      "4                  7,223            151,469,874  ...               1   \n",
      "\n",
      "  Deezer Playlist Count Deezer Playlist Reach Amazon Playlist Count  \\\n",
      "0                  62.0            17,598,718                 114.0   \n",
      "1                  67.0            10,422,430                 111.0   \n",
      "2                 136.0            36,321,847                 172.0   \n",
      "3                 264.0            24,684,248                 210.0   \n",
      "4                  82.0            17,660,624                 105.0   \n",
      "\n",
      "  Pandora Streams Pandora Track Stations Soundcloud Streams  Shazam Counts  \\\n",
      "0      18,004,655                 22,931          4,818,457      2,669,262   \n",
      "1       7,780,028                 28,444          6,623,075      1,118,279   \n",
      "2       5,022,621                  5,639          7,208,651      5,285,340   \n",
      "3     190,260,277                203,384                NaN     11,822,942   \n",
      "4       4,493,884                  7,006            207,179        457,017   \n",
      "\n",
      "  TIDAL Popularity Explicit Track  \n",
      "0              NaN              0  \n",
      "1              NaN              1  \n",
      "2              NaN              0  \n",
      "3              NaN              0  \n",
      "4              NaN              1  \n",
      "\n",
      "[5 rows x 29 columns]\n"
     ]
    }
   ],
   "source": [
    "import pandas as pd\n",
    "\n",
    "data = pd.read_csv('Most Streamed Spotify Songs 2024.csv', sep=',', encoding='ISO-8859-1')\n",
    "print(data.head())\n",
    "\n",
    "# Convert string columns to integers where possible\n",
    "for col in data.columns:\n",
    "    if data[col].dtype == 'object':\n",
    "        data[col] = data[col].str.replace(',', '', regex=True)\n",
    "        try:\n",
    "            data[col] = pd.to_numeric(data[col])\n",
    "        except ValueError:\n",
    "            continue\n",
    "\n",
    "# Convert 'Release Date' to datetime format\n",
    "data['Release Date'] = pd.to_datetime(data['Release Date'], errors='coerce')\n",
    "\n",
    "\n",
    "data.drop_duplicates(inplace=True)"
   ]
  },
  {
   "cell_type": "code",
   "execution_count": null,
   "metadata": {},
   "outputs": [],
   "source": []
  }
 ],
 "metadata": {
  "kernelspec": {
   "display_name": "Python 3",
   "language": "python",
   "name": "python3"
  },
  "language_info": {
   "codemirror_mode": {
    "name": "ipython",
    "version": 3
   },
   "file_extension": ".py",
   "mimetype": "text/x-python",
   "name": "python",
   "nbconvert_exporter": "python",
   "pygments_lexer": "ipython3",
   "version": "3.12.7"
  }
 },
 "nbformat": 4,
 "nbformat_minor": 2
}
