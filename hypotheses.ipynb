{
 "cells": [
  {
   "cell_type": "markdown",
   "metadata": {},
   "source": [
    "Importing data"
   ]
  },
  {
   "cell_type": "code",
   "execution_count": 6,
   "metadata": {},
   "outputs": [],
   "source": [
    "import pandas as pd\n",
    "\n",
    "data = pd.read_csv('Most Streamed Spotify Songs 2024.csv', sep=',', encoding='ISO-8859-1')\n",
    "\n",
    "# Convert string columns to integers where possible\n",
    "for col in data.columns:\n",
    "    if data[col].dtype == 'object':\n",
    "        data[col] = data[col].str.replace(',', '', regex=True)\n",
    "        try:\n",
    "            data[col] = pd.to_numeric(data[col])\n",
    "        except ValueError:\n",
    "            continue\n",
    "\n",
    "# Convert 'Release Date' to datetime format\n",
    "data['Release Date'] = pd.to_datetime(data['Release Date'], errors='coerce')"
   ]
  },
  {
   "cell_type": "markdown",
   "metadata": {},
   "source": [
    "Searching for tracks with feats. Picking random samples for tracks without feats."
   ]
  },
  {
   "cell_type": "code",
   "execution_count": null,
   "metadata": {},
   "outputs": [
    {
     "name": "stdout",
     "output_type": "stream",
     "text": [
      "Percent of non-feat tracks that have higher track score than mean of all collaboration tracks:  32.56 %\n"
     ]
    }
   ],
   "source": [
    "import numpy as np\n",
    "\n",
    "feat_tracks = data[data['Track'].str.contains('feat.', case=False, na=False)]  # Filter DataFrame for \"feat.\"\n",
    "single_tracks = data[~data['Track'].str.contains('feat.', case=False, na=False)]  # Filter DataFrame for non-\"feat.\"\n",
    "#single_tracks = single_tracks.sample(n=len(feat_tracks), random_state=42)\n",
    "\n",
    "# Calculate mean track scores\n",
    "feat_mean = feat_tracks['Track Score'].mean()\n",
    "\n",
    "num_of_better_singles = 0\n",
    "for score in single_tracks['Track Score']:\n",
    "    if score > feat_mean:\n",
    "        num_of_better_singles += 1\n",
    "\n",
    "print(f\"Percent of non-feat tracks that have higher track score than mean of all collaboration tracks: \",round((num_of_better_singles / len(single_tracks) * 100),2),\"%\")"
   ]
  }
 ],
 "metadata": {
  "kernelspec": {
   "display_name": "Python 3",
   "language": "python",
   "name": "python3"
  },
  "language_info": {
   "codemirror_mode": {
    "name": "ipython",
    "version": 3
   },
   "file_extension": ".py",
   "mimetype": "text/x-python",
   "name": "python",
   "nbconvert_exporter": "python",
   "pygments_lexer": "ipython3",
   "version": "3.12.3"
  }
 },
 "nbformat": 4,
 "nbformat_minor": 2
}
