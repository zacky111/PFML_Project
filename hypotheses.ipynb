{
 "cells": [
  {
   "cell_type": "code",
   "execution_count": null,
   "metadata": {},
   "outputs": [],
   "source": [
    "import pandas as pd\n",
    "\n",
    "data = pd.read_csv('Most Streamed Spotify Songs 2024.csv', sep=',', encoding='ISO-8859-1')\n",
    "\n",
    "\n",
    "# Convert string columns to integers where possible\n",
    "for col in data.columns:\n",
    "    if data[col].dtype == 'object':\n",
    "        data[col] = data[col].str.replace(',', '', regex=True)\n",
    "        try:\n",
    "            data[col] = pd.to_numeric(data[col])\n",
    "        except ValueError:\n",
    "            continue\n",
    "\n",
    "# Convert 'Release Date' to datetime format\n",
    "data['Release Date'] = pd.to_datetime(data['Release Date'], errors='coerce')\n"
   ]
  },
  {
   "cell_type": "code",
   "execution_count": null,
   "metadata": {},
   "outputs": [
    {
     "name": "stdout",
     "output_type": "stream",
     "text": [
      "459\n",
      "sssssssssssssssssssssssss\n",
      "459\n",
      "459\n",
      "sssssssssssssssssssssssss\n",
      "459\n"
     ]
    }
   ],
   "source": [
    "feat_tracks = []\n",
    "\n",
    "# Collect tracks with \"feat.\"\n",
    "for track in data['Track']:\n",
    "    if \"feat.\" in track:\n",
    "        feat_tracks.append(track)  # Use append to add elements to the list\n",
    "\n",
    "single_tracks = []\n",
    "\n",
    "# Ensure single_tracks contains unique tracks not in feat_tracks\n",
    "for i in range(len(feat_tracks)):\n",
    "    condition = True\n",
    "    while condition:\n",
    "        random_element = data['Track'].sample(1).iloc[0]  # Use iloc[0] to extract the value from the Series\n",
    "        if random_element not in feat_tracks and random_element not in single_tracks:\n",
    "            single_tracks.append(random_element)  # Use append to add elements to the list\n",
    "            condition = False\n",
    "\n",
    "single_tracks = [item for idx, item in enumerate(single_tracks) if item not in single_tracks[:idx]]\n",
    "\n",
    "\n",
    "\n"
   ]
  },
  {
   "cell_type": "code",
   "execution_count": null,
   "metadata": {},
   "outputs": [],
   "source": []
  }
 ],
 "metadata": {
  "kernelspec": {
   "display_name": "Python 3",
   "language": "python",
   "name": "python3"
  },
  "language_info": {
   "codemirror_mode": {
    "name": "ipython",
    "version": 3
   },
   "file_extension": ".py",
   "mimetype": "text/x-python",
   "name": "python",
   "nbconvert_exporter": "python",
   "pygments_lexer": "ipython3",
   "version": "3.12.7"
  }
 },
 "nbformat": 4,
 "nbformat_minor": 2
}
