{
 "cells": [
  {
   "cell_type": "code",
   "execution_count": 1,
   "metadata": {},
   "outputs": [],
   "source": [
    "import pandas as pd\n",
    "\n",
    "data = pd.read_csv('Most Streamed Spotify Songs 2024.csv', sep=',', encoding='ISO-8859-1')\n",
    "\n",
    "\n",
    "# Convert string columns to integers where possible\n",
    "for col in data.columns:\n",
    "    if data[col].dtype == 'object':\n",
    "        data[col] = data[col].str.replace(',', '', regex=True)\n",
    "        try:\n",
    "            data[col] = pd.to_numeric(data[col])\n",
    "        except ValueError:\n",
    "            continue\n",
    "\n",
    "\n",
    "\n",
    "# Convert 'Release Date' to datetime format\n",
    "data['Release Date'] = pd.to_datetime(data['Release Date'], errors='coerce')\n",
    "\n"
   ]
  },
  {
   "cell_type": "markdown",
   "metadata": {},
   "source": [
    "Odnajdywanie tych z feat, oraz wybieranie losowych próbek dla track bez .feat"
   ]
  },
  {
   "cell_type": "code",
   "execution_count": null,
   "metadata": {},
   "outputs": [
    {
     "name": "stdout",
     "output_type": "stream",
     "text": [
      "The mean value of track score of '.feat' songs:  40.674\n",
      "\n",
      "Summary of Tests:\n",
      "percentantage of samples better than feat_mean across tests:  22.53 %\n",
      "Percentage Standard deviation of samples better than feat_mean across tests  4.102 %\n"
     ]
    }
   ],
   "source": [
    "import numpy as np\n",
    "\n",
    "# Filter rows where 'Track' contains 'feat.'\n",
    "feat_tracks = data[data['Track'].str.contains('feat.', case=False, na=False)]\n",
    "\n",
    "feat_mean = round(feat_tracks['Track Score'].mean(), 3)\n",
    "print(\"The mean value of track score of '.feat' songs: \", feat_mean)\n",
    "\n",
    "# Filter rows where 'Track' does NOT contain 'feat.'\n",
    "non_feat_tracks = data[~data['Track'].str.contains('feat.', case=False, na=False)]\n",
    "\n",
    "nUm_sample = 100\n",
    "num_tests = 100\n",
    "\n",
    "\n",
    "results_all_tests = []\n",
    "\n",
    "for test_num in range(num_tests):\n",
    "    results_non_feat = []\n",
    "    for sample in range(nUm_sample):\n",
    "        # Randomly sample the same number of rows as in feat_tracks\n",
    "        sampled_non_feat_tracks = non_feat_tracks.sample(n=len(feat_tracks))  # Random sampling\n",
    "        sample_mean = round(sampled_non_feat_tracks['Track Score'].mean(), 3)\n",
    "        results_non_feat.append(sample_mean)\n",
    "\n",
    "    # Count how many sampled means are greater than feat_mean\n",
    "    filtered_elements = [element for element in results_non_feat if element < feat_mean] \n",
    "    samples_better_than_feat = len(filtered_elements)\n",
    "    \n",
    "    #print(f\"Test {test_num + 1}: {samples_better_than_feat} samples are better than feat_mean, out of {ammount_tries} samples.\")\n",
    "    results_all_tests.append(samples_better_than_feat)\n",
    "\n",
    "mean_better_than_feat = np.mean(results_all_tests)\n",
    "std_better_than_feat = np.std(results_all_tests)\n",
    "\n",
    "print(\"\\nSummary of Tests:\")\n",
    "print(\"percentantage of samples better than feat_mean across tests: \", round(mean_better_than_feat, 3), \"%\")\n",
    "\n",
    "print(\"Percentage Standard deviation of samples better than feat_mean across tests \", round(std_better_than_feat, 3), \"%\")\n",
    "\n"
   ]
  }
 ],
 "metadata": {
  "kernelspec": {
   "display_name": "Python 3",
   "language": "python",
   "name": "python3"
  },
  "language_info": {
   "codemirror_mode": {
    "name": "ipython",
    "version": 3
   },
   "file_extension": ".py",
   "mimetype": "text/x-python",
   "name": "python",
   "nbconvert_exporter": "python",
   "pygments_lexer": "ipython3",
   "version": "3.12.7"
  }
 },
 "nbformat": 4,
 "nbformat_minor": 2
}
