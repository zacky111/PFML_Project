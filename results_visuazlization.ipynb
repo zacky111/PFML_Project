{
 "cells": [
  {
   "cell_type": "code",
   "execution_count": null,
   "metadata": {
    "vscode": {
     "languageId": "plaintext"
    }
   },
   "outputs": [],
   "source": [
    "import pandas as pd\n",
    "import seaborn as sns\n",
    "import matplotlib.pyplot as plt\n",
    "from sklearn.preprocessing import MinMaxScaler\n",
    "# Load the results dataset\n",
    "results_df = pd.read_csv(\"results.csv\")\n",
    "\n",
    "# Min-Max Scale the Validation RMSE\n",
    "scaler = MinMaxScaler()\n",
    "results_df[\"RMSE_Validation_Scaled\"] = scaler.fit_transform(results_df[[\"RMSE_Validation\"]])\n",
    "\n",
    "# Set Seaborn theme for better aesthetics\n",
    "sns.set_theme(style=\"whitegrid\")\n",
    "\n",
    "# Scaled Bar Plot: Validation RMSE by Model\n",
    "plt.figure(figsize=(12, 6))\n",
    "sns.barplot(data=results_df, x=\"Model\", y=\"RMSE_Validation_Scaled\", ci=None, palette=\"viridis\")\n",
    "plt.title(\"Validation RMSE by Model (Scaled)\", fontsize=16)\n",
    "plt.ylabel(\"Scaled Validation RMSE\", fontsize=12)\n",
    "plt.xlabel(\"Model\", fontsize=12)\n",
    "plt.xticks(rotation=45)\n",
    "plt.tight_layout()\n",
    "plt.savefig(\"scaled_validation_rmse_by_model.png\")  # Save the plot\n",
    "plt.show()\n",
    "\n",
    "# 2. Scatter Plot: Training RMSE vs Validation RMSE\n",
    "plt.figure(figsize=(10, 6))\n",
    "sns.scatterplot(data=results_df, x=\"RMSE_Train\", y=\"RMSE_Validation\", hue=\"Model\", style=\"Model\", palette=\"deep\")\n",
    "plt.title(\"Training RMSE vs Validation RMSE\", fontsize=16)\n",
    "plt.xlabel(\"Training RMSE\", fontsize=12)\n",
    "plt.ylabel(\"Validation RMSE\", fontsize=12)\n",
    "plt.axline((0, 0), slope=1, color=\"gray\", linestyle=\"--\", linewidth=1)  # y=x reference line\n",
    "plt.legend(title=\"Model\")\n",
    "plt.tight_layout()\n",
    "plt.savefig(\"train_vs_validation_rmse.png\")  # Save the plot\n",
    "plt.ylim(0, 250)\n",
    "plt.xlim(25, 40)\n",
    "plt.show()\n",
    "\n",
    "# 3. Grouped Bar Chart: RMSE by Model and Recipe\n",
    "plt.figure(figsize=(14, 8))\n",
    "sns.barplot(\n",
    "    data=results_df,\n",
    "    x=\"Recipe\",\n",
    "    y=\"RMSE_Validation\",\n",
    "    hue=\"Model\",\n",
    "    ci=None,\n",
    "    palette=\"coolwarm\"\n",
    ")\n",
    "plt.title(\"Validation RMSE by Model and Recipe\", fontsize=16)\n",
    "plt.ylabel(\"Validation RMSE\", fontsize=12)\n",
    "plt.xlabel(\"Recipe\", fontsize=12)\n",
    "plt.xticks(rotation=45, ha=\"right\")\n",
    "plt.legend(title=\"Model\", bbox_to_anchor=(1.05, 1), loc=\"upper left\")\n",
    "plt.tight_layout()\n",
    "plt.savefig(\"validation_rmse_by_model_and_recipe.png\")  # Save the plot\n",
    "plt.show()\n"
   ]
  }
 ],
 "metadata": {
  "language_info": {
   "name": "python"
  }
 },
 "nbformat": 4,
 "nbformat_minor": 2
}
